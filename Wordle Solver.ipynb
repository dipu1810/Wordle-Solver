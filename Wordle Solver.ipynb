{
  "cells": [
    {
      "cell_type": "markdown",
      "metadata": {
        "id": "5h82u8PnvAQ7"
      },
      "source": [
        "# Game of WORDLE"
      ]
    },
    {
      "cell_type": "markdown",
      "metadata": {
        "id": "CdEH1D8_vAQ9"
      },
      "source": [
        "Wordle is a popular word guessing game. Here are the rules of the game:\n",
        "\n",
        "The game begins with a randomly selected five-letter word.\n",
        "The player must guess the word within ten attempts.\n",
        "\n",
        "After each guess, the player will receive feedback in the form of a list of integers of length 5, containing either 0,1, or 2 (eg [0,0,1,2,1] or [1,1,2,0,1])\n",
        "\n",
        "If the ith integer is:\n",
        "*  0, then the ith letter of the guess is not present in the word\n",
        "* 1, then the ith letter of the guess is correctly positioned\n",
        "* 2, then the ith letter of the guess is present in the word but is misplaced.\n",
        "\n",
        "The player can use this feedback to refine their guesses and work towards solving the word.\n",
        "The game ends when the player correctly guesses the word or uses up all ten attempts.\n",
        "\n",
        "\n",
        "**You have been provided with most of the code to run the wordle game, to take in your guesses and to provide feedback. Your task is to code the ```generate_guess()``` function which takes as input a feedback which is a list of integers of length 5 containing either 0, 1 or 2 as explained earlier and returns the best possible guess of a 5 letter word.**\n",
        "\n",
        "The list of words to choose from is stored in the variable ```self.words```, and the correct word is guaranteed to belong to this list.\n",
        "\n",
        "The game runs your algorithm for 10 different words and prints out your guesses and whether you got the correct answer. Note that, an average human takes just above 4 guesses to solve a wordle. With 10 allowed guesses your algorithm has infact been given a lot of headroom. Try to do better than 10 and optimize as much as you can."
      ]
    },
    {
      "cell_type": "code",
      "source": [
        "from google.colab import drive\n",
        "import sys\n",
        "drive.mount('/content/drive/', force_remount = True)\n",
        "sys.path.append('/content/drive/MyDrive/wordle')\n",
        "from utils import *"
      ],
      "metadata": {
        "id": "6RCXri0ZchpK",
        "colab": {
          "base_uri": "https://localhost:8080/"
        },
        "outputId": "fd7d468b-64a9-487e-842d-9d1b6a7aa65b"
      },
      "execution_count": null,
      "outputs": [
        {
          "output_type": "stream",
          "name": "stdout",
          "text": [
            "Mounted at /content/drive/\n"
          ]
        }
      ]
    },
    {
      "cell_type": "code",
      "execution_count": null,
      "metadata": {
        "id": "wn2cqzVovAQ-"
      },
      "outputs": [],
      "source": [
        "\n",
        "class Solver(Wordle):\n",
        "    def __init__(self):\n",
        "        super().__init__()\n",
        "        self.guesses=[]\n",
        "        self.noletters=[0]*26\n",
        "        self.wrongpos=[[0]*5 for _ in range(26)]\n",
        "        self.letters=[]\n",
        "\n",
        "    def generate_guess(self, feedback=None):\n",
        "        guess = \"crane\"\n",
        "\n",
        "        if(len(self.guesses)>0):\n",
        "           prevword=self.guesses[len(self.guesses)-1]\n",
        "           for i in range(5):\n",
        "             if(feedback[i]==0):\n",
        "               self.noletters[ord(prevword[i])-97]=1\n",
        "             elif(feedback[i]==2):\n",
        "               self.wrongpos[ord(prevword[i])-97][i]=1\n",
        "               self.letters.append(prevword[i])\n",
        "             else :\n",
        "               self.letters.append(prevword[i])\n",
        "\n",
        "\n",
        "\n",
        "           for checkword in self.words:\n",
        "               exit=0\n",
        "               for i in range(5):\n",
        "\n",
        "                 if((self.noletters[ord(checkword[i])-97])==1):\n",
        "\n",
        "                   exit=1\n",
        "                   break\n",
        "                 if((checkword[i]!=prevword[i])and(feedback[i]==1)):\n",
        "                   exit=1\n",
        "                   break\n",
        "                 if(self.wrongpos[ord(checkword[i])-97][i]==1):\n",
        "                   exit=1\n",
        "\n",
        "                   break\n",
        "               if(exit==0):\n",
        "                 for ch in self.letters:\n",
        "                   if ch  not in checkword:exit=1\n",
        "               if(exit==0):\n",
        "                 self.guesses.append(checkword)\n",
        "                 return checkword\n",
        "        self.guesses.append(guess)\n",
        "        return guess\n",
        "\n",
        "     #https://drive.google.com/drive/folders/1KnTvaLjiswmTkMitRxECHd78DxyBmOs-?usp=share_link    Excel and SPSS(to find cooks distance)\n",
        "\n",
        "\n",
        "\n"
      ]
    },
    {
      "cell_type": "code",
      "execution_count": null,
      "metadata": {
        "id": "l88MLDqfvAQ_",
        "colab": {
          "base_uri": "https://localhost:8080/"
        },
        "outputId": "e4e91329-8562-470a-c138-01eaeea7c2fd"
      },
      "outputs": [
        {
          "output_type": "stream",
          "name": "stdout",
          "text": [
            "Simulating for  10  words.\n",
            "\n",
            "WORD #[ 1 / 10 ]\n",
            "\tGuess # 1 \t: crane \tFeedback:  [0, 0, 2, 1, 0]\n",
            "\tGuess # 2 \t: along \tFeedback:  [1, 1, 1, 1, 1]\n",
            "\t\n",
            "Success.\tCorrect word:  along \tNumber of guesses:  2\n",
            "\n",
            "\n",
            "WORD #[ 2 / 10 ]\n",
            "\tGuess # 1 \t: crane \tFeedback:  [0, 0, 0, 0, 2]\n",
            "\tGuess # 2 \t: below \tFeedback:  [0, 1, 1, 0, 0]\n",
            "\tGuess # 3 \t: tells \tFeedback:  [1, 1, 1, 2, 0]\n",
            "\tGuess # 4 \t: telex \tFeedback:  [1, 1, 1, 1, 1]\n",
            "\t\n",
            "Success.\tCorrect word:  telex \tNumber of guesses:  4\n",
            "\n",
            "\n",
            "WORD #[ 3 / 10 ]\n",
            "\tGuess # 1 \t: crane \tFeedback:  [0, 0, 0, 0, 2]\n",
            "\tGuess # 2 \t: below \tFeedback:  [0, 1, 1, 0, 0]\n",
            "\tGuess # 3 \t: tells \tFeedback:  [2, 1, 1, 2, 1]\n",
            "\tGuess # 4 \t: melts \tFeedback:  [0, 1, 1, 1, 1]\n",
            "\tGuess # 5 \t: pelts \tFeedback:  [1, 1, 1, 1, 1]\n",
            "\t\n",
            "Success.\tCorrect word:  pelts \tNumber of guesses:  5\n",
            "\n",
            "\n",
            "WORD #[ 4 / 10 ]\n",
            "\tGuess # 1 \t: crane \tFeedback:  [1, 2, 0, 0, 0]\n",
            "\tGuess # 2 \t: color \tFeedback:  [1, 0, 0, 0, 2]\n",
            "\tGuess # 3 \t: curds \tFeedback:  [1, 1, 1, 1, 1]\n",
            "\t\n",
            "Success.\tCorrect word:  curds \tNumber of guesses:  3\n",
            "\n",
            "\n",
            "WORD #[ 5 / 10 ]\n",
            "\tGuess # 1 \t: crane \tFeedback:  [0, 0, 0, 0, 2]\n",
            "\tGuess # 2 \t: below \tFeedback:  [0, 2, 0, 0, 2]\n",
            "\tGuess # 3 \t: sweet \tFeedback:  [1, 2, 1, 2, 0]\n",
            "\tGuess # 4 \t: spews \tFeedback:  [1, 1, 1, 1, 1]\n",
            "\t\n",
            "Success.\tCorrect word:  spews \tNumber of guesses:  4\n",
            "\n",
            "\n",
            "WORD #[ 6 / 10 ]\n",
            "\tGuess # 1 \t: crane \tFeedback:  [0, 0, 1, 2, 0]\n",
            "\tGuess # 2 \t: again \tFeedback:  [2, 0, 1, 2, 2]\n",
            "\tGuess # 3 \t: inapt \tFeedback:  [1, 1, 1, 1, 1]\n",
            "\t\n",
            "Success.\tCorrect word:  inapt \tNumber of guesses:  3\n",
            "\n",
            "\n",
            "WORD #[ 7 / 10 ]\n",
            "\tGuess # 1 \t: crane \tFeedback:  [0, 0, 0, 0, 2]\n",
            "\tGuess # 2 \t: below \tFeedback:  [0, 1, 0, 0, 0]\n",
            "\tGuess # 3 \t: seems \tFeedback:  [2, 1, 2, 0, 1]\n",
            "\tGuess # 4 \t: tests \tFeedback:  [0, 1, 2, 0, 1]\n",
            "\tGuess # 5 \t: feuds \tFeedback:  [1, 1, 1, 1, 1]\n",
            "\t\n",
            "Success.\tCorrect word:  feuds \tNumber of guesses:  5\n",
            "\n",
            "\n",
            "WORD #[ 8 / 10 ]\n",
            "\tGuess # 1 \t: crane \tFeedback:  [0, 0, 0, 0, 0]\n",
            "\tGuess # 2 \t: would \tFeedback:  [0, 0, 2, 1, 0]\n",
            "\tGuess # 3 \t: built \tFeedback:  [0, 1, 0, 1, 0]\n",
            "\tGuess # 4 \t: fully \tFeedback:  [0, 1, 1, 1, 0]\n",
            "\tGuess # 5 \t: pulls \tFeedback:  [0, 1, 1, 1, 1]\n",
            "\tGuess # 6 \t: gulls \tFeedback:  [1, 1, 1, 1, 1]\n",
            "\t\n",
            "Success.\tCorrect word:  gulls \tNumber of guesses:  6\n",
            "\n",
            "\n",
            "WORD #[ 9 / 10 ]\n",
            "\tGuess # 1 \t: crane \tFeedback:  [0, 0, 2, 0, 2]\n",
            "\tGuess # 2 \t: asked \tFeedback:  [2, 0, 0, 1, 1]\n",
            "\tGuess # 3 \t: waved \tFeedback:  [0, 1, 0, 1, 1]\n",
            "\tGuess # 4 \t: hated \tFeedback:  [0, 1, 0, 1, 1]\n",
            "\tGuess # 5 \t: faded \tFeedback:  [0, 1, 2, 1, 1]\n",
            "\tGuess # 6 \t: gazed \tFeedback:  [0, 1, 0, 1, 1]\n",
            "\tGuess # 7 \t: paled \tFeedback:  [0, 1, 1, 1, 1]\n",
            "\tGuess # 8 \t: baled \tFeedback:  [1, 1, 1, 1, 1]\n",
            "\t\n",
            "Success.\tCorrect word:  baled \tNumber of guesses:  8\n",
            "\n",
            "\n",
            "WORD #[ 10 / 10 ]\n",
            "\tGuess # 1 \t: crane \tFeedback:  [0, 0, 0, 0, 0]\n",
            "\tGuess # 2 \t: would \tFeedback:  [2, 0, 0, 0, 0]\n",
            "\tGuess # 3 \t: swift \tFeedback:  [1, 1, 1, 0, 0]\n",
            "\tGuess # 4 \t: swims \tFeedback:  [1, 1, 1, 0, 1]\n",
            "\tGuess # 5 \t: swiss \tFeedback:  [1, 1, 1, 1, 1]\n",
            "\t\n",
            "Success.\tCorrect word:  swiss \tNumber of guesses:  5\n",
            "\n",
            "\n"
          ]
        }
      ],
      "source": [
        "game = Game(Solver, N=10)\n",
        "game.run()"
      ]
    },
    {
      "cell_type": "code",
      "execution_count": null,
      "metadata": {
        "id": "vW097vHbvAQ_"
      },
      "outputs": [],
      "source": []
    }
  ],
  "metadata": {
    "kernelspec": {
      "display_name": "base",
      "language": "python",
      "name": "python3"
    },
    "language_info": {
      "codemirror_mode": {
        "name": "ipython",
        "version": 3
      },
      "file_extension": ".py",
      "mimetype": "text/x-python",
      "name": "python",
      "nbconvert_exporter": "python",
      "pygments_lexer": "ipython3",
      "version": "3.10.9"
    },
    "orig_nbformat": 4,
    "colab": {
      "provenance": []
    }
  },
  "nbformat": 4,
  "nbformat_minor": 0
}